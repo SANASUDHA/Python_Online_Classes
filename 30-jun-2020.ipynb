{
 "cells": [
  {
   "cell_type": "markdown",
   "metadata": {},
   "source": [
    "# Sets\n",
    "- sets are used to store the collection of data in python.\n",
    "- it is unordered and unindexed.\n",
    "- it contains unique values.\n",
    "- it is also represented by curly brackets.\n",
    "- syntax: set={}"
   ]
  },
  {
   "cell_type": "code",
   "execution_count": 1,
   "metadata": {},
   "outputs": [
    {
     "name": "stdout",
     "output_type": "stream",
     "text": [
      "{1, 2, 3, 6, 8, 12}\n"
     ]
    }
   ],
   "source": [
    "sets = {1,2,3,2,6,3,8,12}\n",
    "print(sets)"
   ]
  },
  {
   "cell_type": "markdown",
   "metadata": {},
   "source": [
    "# Methods in sets"
   ]
  },
  {
   "cell_type": "code",
   "execution_count": 3,
   "metadata": {},
   "outputs": [
    {
     "data": {
      "text/plain": [
       "{1, 2, 3, 4, 6, 8, 12}"
      ]
     },
     "execution_count": 3,
     "metadata": {},
     "output_type": "execute_result"
    }
   ],
   "source": [
    "# add()\n",
    "#it adds an element in the set\n",
    "sets = {1,2,3,2,6,3,8,12}\n",
    "sets.add(4)\n",
    "sets"
   ]
  },
  {
   "cell_type": "code",
   "execution_count": 4,
   "metadata": {},
   "outputs": [
    {
     "data": {
      "text/plain": [
       "{1, 2, 3, 4, 6, 8, 12}"
      ]
     },
     "execution_count": 4,
     "metadata": {},
     "output_type": "execute_result"
    }
   ],
   "source": [
    "# copy()-->it returns copy of the set\n",
    "sets1=sets.copy()\n",
    "sets1"
   ]
  },
  {
   "cell_type": "code",
   "execution_count": 6,
   "metadata": {},
   "outputs": [
    {
     "data": {
      "text/plain": [
       "set()"
      ]
     },
     "execution_count": 6,
     "metadata": {},
     "output_type": "execute_result"
    }
   ],
   "source": [
    "# clear()-->it removes all the elements an existing set\n",
    "sets.clear()\n",
    "sets"
   ]
  },
  {
   "cell_type": "code",
   "execution_count": 8,
   "metadata": {},
   "outputs": [
    {
     "data": {
      "text/plain": [
       "{'a', 'c', 'p', 's'}"
      ]
     },
     "execution_count": 8,
     "metadata": {},
     "output_type": "execute_result"
    }
   ],
   "source": [
    "# pop()--> it removes the element from the set\n",
    "s={'a','p','s','s','d','c'}\n",
    "s.pop()\n",
    "s"
   ]
  },
  {
   "cell_type": "code",
   "execution_count": 9,
   "metadata": {},
   "outputs": [
    {
     "data": {
      "text/plain": [
       "{'a', 'p', 's'}"
      ]
     },
     "execution_count": 9,
     "metadata": {},
     "output_type": "execute_result"
    }
   ],
   "source": [
    "# remove()--> it was remove specified element\n",
    "s.remove('c')\n",
    "s"
   ]
  },
  {
   "cell_type": "code",
   "execution_count": 10,
   "metadata": {},
   "outputs": [
    {
     "name": "stdout",
     "output_type": "stream",
     "text": [
      "{'brown', 'green', 150, 121, 123, 12, 'abc'}\n"
     ]
    }
   ],
   "source": [
    "# update()-->it adds an entire set into another\n",
    "set1={'abc',123,12,123,'abc'}\n",
    "set2={'green','brown',121,150}\n",
    "set1.update(set2)\n",
    "print(set1)"
   ]
  },
  {
   "cell_type": "code",
   "execution_count": 16,
   "metadata": {},
   "outputs": [
    {
     "name": "stdout",
     "output_type": "stream",
     "text": [
      "{1, 11, 21}\n"
     ]
    },
    {
     "data": {
      "text/plain": [
       "{1, 10, 11, 20, 21, 30}"
      ]
     },
     "execution_count": 16,
     "metadata": {},
     "output_type": "execute_result"
    }
   ],
   "source": [
    "#difference()- Remove the common elements in two sets and returns the unique elements in the first set.\n",
    "set3={1,10,11,20,21,30}\n",
    "set4={10,20,30}\n",
    "set5=set3.difference(set4)\n",
    "print(set5)\n",
    "set3"
   ]
  },
  {
   "cell_type": "code",
   "execution_count": 12,
   "metadata": {},
   "outputs": [],
   "source": [
    "del set5"
   ]
  },
  {
   "cell_type": "code",
   "execution_count": 13,
   "metadata": {},
   "outputs": [
    {
     "ename": "NameError",
     "evalue": "name 'set5' is not defined",
     "output_type": "error",
     "traceback": [
      "\u001b[1;31m---------------------------------------------------------------------------\u001b[0m",
      "\u001b[1;31mNameError\u001b[0m                                 Traceback (most recent call last)",
      "\u001b[1;32m<ipython-input-13-3df7a68ae1c3>\u001b[0m in \u001b[0;36m<module>\u001b[1;34m\u001b[0m\n\u001b[1;32m----> 1\u001b[1;33m \u001b[0mset5\u001b[0m\u001b[1;33m\u001b[0m\u001b[1;33m\u001b[0m\u001b[0m\n\u001b[0m",
      "\u001b[1;31mNameError\u001b[0m: name 'set5' is not defined"
     ]
    }
   ],
   "source": [
    "set5"
   ]
  },
  {
   "cell_type": "code",
   "execution_count": 15,
   "metadata": {},
   "outputs": [
    {
     "name": "stdout",
     "output_type": "stream",
     "text": [
      "{1, 11, 21, 31}\n"
     ]
    }
   ],
   "source": [
    "# difference_update()--> Returns the new updated set after make a difference between the two sets\n",
    "num1={1,10,11,20,21,30,31,1}\n",
    "num2={8,9,10,20,30,40}\n",
    "num1.difference_update(num2)\n",
    "print(num1)"
   ]
  },
  {
   "cell_type": "code",
   "execution_count": 20,
   "metadata": {},
   "outputs": [
    {
     "name": "stdout",
     "output_type": "stream",
     "text": [
      "{1, 2, 4}\n"
     ]
    },
    {
     "data": {
      "text/plain": [
       "{1, 2, 3, 4, 5, 6}"
      ]
     },
     "execution_count": 20,
     "metadata": {},
     "output_type": "execute_result"
    }
   ],
   "source": [
    "# intersection()-->it returns the set that is the intersection of two other sets\n",
    "set1={1,2,3,4,5,6}\n",
    "set2={2,4,8,9,1,7}\n",
    "result=set1.intersection(set2)\n",
    "print(result)"
   ]
  },
  {
   "cell_type": "code",
   "execution_count": 19,
   "metadata": {},
   "outputs": [
    {
     "name": "stdout",
     "output_type": "stream",
     "text": [
      "{1, 2, 4}\n"
     ]
    }
   ],
   "source": [
    "#intersection_update()-- removes the elements in one set which is not there in another set and returns updated set.\n",
    "set1={1,2,3,4,5,6}\n",
    "set2={2,4,8,9,1,7}\n",
    "set1.intersection_update(set2)\n",
    "print(set1)"
   ]
  },
  {
   "cell_type": "code",
   "execution_count": 21,
   "metadata": {},
   "outputs": [
    {
     "name": "stdout",
     "output_type": "stream",
     "text": [
      "{'white', 'green', 'yellow'}\n"
     ]
    }
   ],
   "source": [
    "# discard()-->it removes the specified element\n",
    "colors={'green','red','yellow','white'}\n",
    "colors.discard('red')\n",
    "print(colors)"
   ]
  },
  {
   "cell_type": "code",
   "execution_count": 23,
   "metadata": {},
   "outputs": [
    {
     "name": "stdout",
     "output_type": "stream",
     "text": [
      "True\n",
      "False\n"
     ]
    }
   ],
   "source": [
    "#isdisjoint()-->returns True, whether two sets are intersection\n",
    "colors1={'green','red','yellow','white'}\n",
    "games={'puzzle','sudoko','ludo'}\n",
    "colors2={'green','yellow','white'}\n",
    "res=colors1.isdisjoint(games)\n",
    "print(res)\n",
    "res1=colors1.isdisjoint(colors2)\n",
    "print(res1)"
   ]
  },
  {
   "cell_type": "code",
   "execution_count": 35,
   "metadata": {},
   "outputs": [
    {
     "name": "stdout",
     "output_type": "stream",
     "text": [
      "True\n",
      "False\n"
     ]
    }
   ],
   "source": [
    "# issubset()\n",
    "val={1,2,3}\n",
    "val1={'a',1,'b',2,3}\n",
    "val2={'a',1,'b',3}\n",
    "res=val.issubset(val1)\n",
    "res1=val.issubset(val2)\n",
    "print(res)\n",
    "print(res1)"
   ]
  },
  {
   "cell_type": "code",
   "execution_count": 41,
   "metadata": {},
   "outputs": [
    {
     "name": "stdout",
     "output_type": "stream",
     "text": [
      "{'ludo', 'yellow', 'sudoko', 'red', 'green', 'puzzle'}\n"
     ]
    }
   ],
   "source": [
    "#symmetric_difference()\n",
    "colors={'green','red','yellow','white'}\n",
    "games={'puzzle','sudoko','ludo','white'}\n",
    "result=colors.symmetric_difference(games)\n",
    "print(result)"
   ]
  },
  {
   "cell_type": "code",
   "execution_count": 27,
   "metadata": {},
   "outputs": [
    {
     "name": "stdout",
     "output_type": "stream",
     "text": [
      "{'yellow', 'ludo', 'sudoko', 'red', 'green', 'puzzle'}\n"
     ]
    }
   ],
   "source": [
    "#symmetric_difference_update\n",
    "colors={'green','red','yellow','white'}\n",
    "games={'puzzle','sudoko','ludo','white'}\n",
    "colors.symmetric_difference_update(games)\n",
    "print(colors)"
   ]
  },
  {
   "cell_type": "code",
   "execution_count": 32,
   "metadata": {},
   "outputs": [
    {
     "name": "stdout",
     "output_type": "stream",
     "text": [
      "{1, 2, 3, 4, 5, 6, 7, 8, 777}\n"
     ]
    }
   ],
   "source": [
    "#union()-->it returns a set of elements in both sets\n",
    "num1={1,2,3,4,6}\n",
    "num2={5,6,7,8,777}\n",
    "res=num1.union(num2)\n",
    "print(res)"
   ]
  },
  {
   "cell_type": "code",
   "execution_count": 33,
   "metadata": {},
   "outputs": [
    {
     "data": {
      "text/plain": [
       "{1, 2, 45, 6, 8, 'a', 'apple', 'b'}"
      ]
     },
     "execution_count": 33,
     "metadata": {},
     "output_type": "execute_result"
    }
   ],
   "source": [
    "s={1,45,8,2,6,'a','b','apple'}\n",
    "s"
   ]
  },
  {
   "cell_type": "code",
   "execution_count": 39,
   "metadata": {},
   "outputs": [
    {
     "name": "stdout",
     "output_type": "stream",
     "text": [
      "True\n",
      "False\n"
     ]
    }
   ],
   "source": [
    "#issuperset()-->it will check all elements in val2 is present in val1, then it returns true.\n",
    "val={1,2,3,4}\n",
    "val1={1,2,3}\n",
    "val2={'a',1,'b',3}\n",
    "res=val.issuperset(val1)\n",
    "res1=val.issuperset(val2)\n",
    "print(res)\n",
    "print(res1)"
   ]
  },
  {
   "cell_type": "code",
   "execution_count": null,
   "metadata": {},
   "outputs": [],
   "source": []
  }
 ],
 "metadata": {
  "kernelspec": {
   "display_name": "Python 3",
   "language": "python",
   "name": "python3"
  },
  "language_info": {
   "codemirror_mode": {
    "name": "ipython",
    "version": 3
   },
   "file_extension": ".py",
   "mimetype": "text/x-python",
   "name": "python",
   "nbconvert_exporter": "python",
   "pygments_lexer": "ipython3",
   "version": "3.7.6"
  }
 },
 "nbformat": 4,
 "nbformat_minor": 4
}
